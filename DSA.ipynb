{
  "nbformat": 4,
  "nbformat_minor": 0,
  "metadata": {
    "colab": {
      "name": "DSA.ipynb",
      "provenance": [],
      "authorship_tag": "ABX9TyM+I9tdAhtS5XpmboNEdz7C",
      "include_colab_link": true
    },
    "kernelspec": {
      "name": "python3",
      "display_name": "Python 3"
    },
    "language_info": {
      "name": "python"
    }
  },
  "cells": [
    {
      "cell_type": "markdown",
      "metadata": {
        "id": "view-in-github",
        "colab_type": "text"
      },
      "source": [
        "<a href=\"https://colab.research.google.com/github/nikhil5876/DSA/blob/main/DSA.ipynb\" target=\"_parent\"><img src=\"https://colab.research.google.com/assets/colab-badge.svg\" alt=\"Open In Colab\"/></a>"
      ]
    },
    {
      "cell_type": "markdown",
      "metadata": {
        "id": "FSqYE9w4fVwt"
      },
      "source": [
        "## **HashTable**"
      ]
    },
    {
      "cell_type": "code",
      "metadata": {
        "id": "dCQd8b1vsTJV"
      },
      "source": [
        ""
      ],
      "execution_count": null,
      "outputs": []
    },
    {
      "cell_type": "code",
      "metadata": {
        "id": "EP7BCRSRe-Gn"
      },
      "source": [
        "class HashTable:\n",
        "    def __init__(self):\n",
        "        self.MAX = 10\n",
        "        self.arr = [ [] for i in range(self.MAX)]\n",
        "    \n",
        "    def getHash(self,key):\n",
        "        hash = 0\n",
        "        for i in key:\n",
        "            hash += ord(i)\n",
        "        hash %= self.MAX\n",
        "        return hash\n",
        "\n",
        "    def __setitem__(self,key,val):\n",
        "        found = False\n",
        "        h = self.getHash(key)\n",
        "        for idx , element in enumerate(self.arr[h]):\n",
        "          if len(element) == 2 and element[0] == key:\n",
        "            self.arr[h][idx] = (key,val)\n",
        "            found = True\n",
        "            break\n",
        "        if not found:\n",
        "          self.arr[h].append((key, val))\n",
        "\n",
        "    def __getitem__(self,key):\n",
        "      h = self.getHash(key)\n",
        "      for ind, element in enumerate(self.arr[h]):\n",
        "        if element[0] == key:\n",
        "          print(element)\n",
        "          return element\n",
        "\n",
        "    def __delitem__(self,key):\n",
        "        h = self.getHash(key)\n",
        "        for index, element in enumerate(self.arr[h]):\n",
        "          if element[0] == key:\n",
        "            del self.arr[h][index]\n",
        "\n"
      ],
      "execution_count": null,
      "outputs": []
    },
    {
      "cell_type": "code",
      "metadata": {
        "colab": {
          "base_uri": "https://localhost:8080/"
        },
        "id": "mVRPF56YfCqr",
        "outputId": "ee1cbd33-3cd7-4b58-e8d8-03e4da87d925"
      },
      "source": [
        "\n",
        "h = HashTable()\n",
        "h[\"march 6\"] = 6\n",
        "h[\"march 7\"] = 7\n",
        "h[\"march 8\"] = 8\n",
        "h[\"mar ch8\"]  = 8\n",
        "print(\"hiiii\")\n",
        "h.arr\n",
        "# del h[\"march 6\"]\n",
        "h[\"ma\"] = 26\n",
        "\n",
        "\n"
      ],
      "execution_count": null,
      "outputs": [
        {
          "output_type": "stream",
          "name": "stdout",
          "text": [
            "hiiii\n"
          ]
        }
      ]
    },
    {
      "cell_type": "code",
      "metadata": {
        "id": "XbxeIf4sfETM"
      },
      "source": [
        "h[\"am\"] = 8"
      ],
      "execution_count": null,
      "outputs": []
    },
    {
      "cell_type": "code",
      "metadata": {
        "colab": {
          "base_uri": "https://localhost:8080/"
        },
        "id": "5ylrfxKdjzkP",
        "outputId": "390e237d-d8c5-445d-d4c3-1320b426d11f"
      },
      "source": [
        "h.arr"
      ],
      "execution_count": null,
      "outputs": [
        {
          "output_type": "execute_result",
          "data": {
            "text/plain": [
              "[[('march 7', 7)],\n",
              " [('march 8', 8), ('mar ch8', 8)],\n",
              " [],\n",
              " [],\n",
              " [],\n",
              " [],\n",
              " [('ma', 26), ('am', 8)],\n",
              " [],\n",
              " [],\n",
              " [('march 6', 6)]]"
            ]
          },
          "metadata": {},
          "execution_count": 63
        }
      ]
    },
    {
      "cell_type": "code",
      "metadata": {
        "id": "joOr8JyanUL5"
      },
      "source": [
        "del h[\"march 7\"]"
      ],
      "execution_count": null,
      "outputs": []
    },
    {
      "cell_type": "code",
      "metadata": {
        "colab": {
          "base_uri": "https://localhost:8080/"
        },
        "id": "SNtifqpxpc9V",
        "outputId": "6188dc18-64fe-44ce-f680-5a3fe6c6a3df"
      },
      "source": [
        "h.arr"
      ],
      "execution_count": null,
      "outputs": [
        {
          "output_type": "execute_result",
          "data": {
            "text/plain": [
              "[[],\n",
              " [('march 8', 8), ('mar ch8', 8)],\n",
              " [],\n",
              " [],\n",
              " [],\n",
              " [],\n",
              " [('ma', 26), ('am', 8)],\n",
              " [],\n",
              " [],\n",
              " [('march 6', 6)]]"
            ]
          },
          "metadata": {},
          "execution_count": 65
        }
      ]
    },
    {
      "cell_type": "code",
      "metadata": {
        "id": "JU0wLcV8peLb"
      },
      "source": [
        ""
      ],
      "execution_count": null,
      "outputs": []
    },
    {
      "cell_type": "markdown",
      "metadata": {
        "id": "_TgbjaRvrzUX"
      },
      "source": [
        "# **Stack**"
      ]
    },
    {
      "cell_type": "code",
      "metadata": {
        "id": "NzMnZK8ur2ur"
      },
      "source": [
        "class Node:\n",
        "  def __init__(self,data):\n",
        "    self.data = data\n",
        "    self.next = None\n",
        "\n",
        "class Stack:\n",
        "  def __init__(self):\n",
        "    self.head = None\n",
        "\n",
        "  def push(self,data):\n",
        "    if self.head == None:\n",
        "      node = Node(data)\n",
        "      self.head = node\n",
        "    else:\n",
        "      node = Node(data)\n",
        "      node.next = self.head\n",
        "      self.head = node\n",
        "\n",
        "  def print(self):\n",
        "    ptr = self.head\n",
        "    while ptr:\n",
        "      print(ptr.data)\n",
        "      ptr = ptr.next\n",
        "\n",
        "  def fifo_pop(self):\n",
        "    ptr = self.head\n",
        "    pptr = ptr\n",
        "    while ptr:\n",
        "\n",
        "      print(ptr.data, ptr.next)\n",
        "    \n",
        "      if ptr.next == None:\n",
        "        lptr = ptr\n",
        "        print(\"last node is \", lptr.data, 'prev ptr', pptr.data)\n",
        "        pptr.next = None\n",
        "        del ptr\n",
        "        return pptr.data\n",
        "      pptr = ptr\n",
        "      ptr = ptr.next\n",
        "\n",
        "  def pop(self):\n",
        "    delNode = self.head\n",
        "    self.head = self.head.next\n",
        "    d = delNode.data\n",
        "    del delNode\n",
        "    return d"
      ],
      "execution_count": null,
      "outputs": []
    },
    {
      "cell_type": "code",
      "metadata": {
        "colab": {
          "base_uri": "https://localhost:8080/"
        },
        "id": "WFu80_0or581",
        "outputId": "e8bd0b0c-90a6-4ade-c7bc-c41012e43cc0"
      },
      "source": [
        "s = Stack()\n",
        "s.push(1)\n",
        "s.push(2)\n",
        "s.push(3)\n",
        "s.print()\n",
        "s.pop()\n",
        "s.print()"
      ],
      "execution_count": null,
      "outputs": [
        {
          "output_type": "stream",
          "name": "stdout",
          "text": [
            "3\n",
            "2\n",
            "1\n",
            "2\n",
            "1\n"
          ]
        }
      ]
    },
    {
      "cell_type": "code",
      "metadata": {
        "id": "hz924PxtsMZg"
      },
      "source": [
        ""
      ],
      "execution_count": null,
      "outputs": []
    },
    {
      "cell_type": "markdown",
      "metadata": {
        "id": "jXkFJz5gsUvb"
      },
      "source": [
        "# **TREE**"
      ]
    },
    {
      "cell_type": "code",
      "metadata": {
        "id": "nS8O7iUlss4i"
      },
      "source": [
        "class TreeNode:\n",
        "  def __init__(self,data):\n",
        "    self.data = data\n",
        "    self.parent = None\n",
        "    self.children = []\n",
        "  \n",
        "  def add_child(self,child):\n",
        "    child.parent = self\n",
        "    self.children.append(child)\n",
        "\n",
        "  def get_level(self):\n",
        "    level = 0\n",
        "    p = self.parent\n",
        "    while p:\n",
        "      level += 1\n",
        "      p = p.parent\n",
        "    return level\n",
        "\n",
        "  def print_tree(self):\n",
        "    spaces = \" \" * self.get_level() * 3 \n",
        "    prefix = spaces + \"|--\" if self.parent else \"\"\n",
        "    print(prefix ,self.data)\n",
        "    if self.children: \n",
        "      for child in self.children:        \n",
        "        child.print_tree()\n",
        "\n"
      ],
      "execution_count": null,
      "outputs": []
    },
    {
      "cell_type": "code",
      "metadata": {
        "id": "orQZ_5alsuK6"
      },
      "source": [
        "root = TreeNode(\"Electronics\")\n",
        "\n",
        "laptop = TreeNode(\"Laptop\")\n",
        "laptop.add_child(TreeNode(\"HP\"))\n",
        "laptop.add_child(TreeNode(\"Mac\"))\n",
        "laptop.add_child(TreeNode(\"Dell\"))\n",
        "\n",
        "mobile = TreeNode(\"Mobile\")\n",
        "mobile.add_child(TreeNode(\"Mi\"))\n",
        "mobile.add_child(TreeNode(\"apple\"))\n",
        "mobile.add_child(TreeNode(\"samsung\"))\n",
        "\n",
        "tv = TreeNode(\"TV\")\n",
        "tv.add_child(TreeNode(\"Mi\"))\n",
        "tv.add_child(TreeNode(\"Samsung\"))\n",
        "tv.add_child(TreeNode(\"HP\"))\n",
        "\n",
        "root.add_child(laptop)\n",
        "root.add_child(mobile)\n",
        "root.add_child(tv)\n",
        "\n",
        "\n"
      ],
      "execution_count": null,
      "outputs": []
    },
    {
      "cell_type": "code",
      "metadata": {
        "colab": {
          "base_uri": "https://localhost:8080/"
        },
        "id": "rixu5KGhNDQU",
        "outputId": "bfd6fe0e-ff5f-48b3-e1e0-142f547a82af"
      },
      "source": [
        "root.print_tree()"
      ],
      "execution_count": null,
      "outputs": [
        {
          "output_type": "stream",
          "name": "stdout",
          "text": [
            " Electronics\n",
            "   |-- Laptop\n",
            "      |-- HP\n",
            "      |-- Mac\n",
            "      |-- Dell\n",
            "   |-- Mobile\n",
            "      |-- Mi\n",
            "      |-- apple\n",
            "      |-- samsung\n",
            "   |-- TV\n",
            "      |-- Mi\n",
            "      |-- Samsung\n",
            "      |-- HP\n"
          ]
        }
      ]
    },
    {
      "cell_type": "markdown",
      "metadata": {
        "id": "IEr2TvDDXN8u"
      },
      "source": [
        "# Binary Search Tree"
      ]
    },
    {
      "cell_type": "code",
      "metadata": {
        "id": "cahspeGBmD48"
      },
      "source": [
        "class BinaySearchTree:\n",
        "  def __init__(self,data):\n",
        "    self.data = data\n",
        "    self.left = None\n",
        "    self.right = None\n",
        "  \n",
        "  def add_child(self,data):\n",
        "    if self.data == data:\n",
        "      return\n",
        "    if data < int(self.data):\n",
        "      #left tree\n",
        "      if self.left:\n",
        "        self.left.add_child(data)\n",
        "      else:\n",
        "        self.left = BinaySearchTree(data)\n",
        "    else:\n",
        "      #right tree\n",
        "      if self.right:\n",
        "        self.right.add_child(data)\n",
        "      else:\n",
        "        self.right = BinaySearchTree(data)\n",
        "\n",
        "  def in_order_traversal(self):\n",
        "    elements = []\n",
        "    #visit left\n",
        "    if self.left:\n",
        "      elements += self.left.in_order_traversal()\n",
        "    #visit base node\n",
        "    elements.append(self.data)\n",
        "    #visit rigth\n",
        "    if self.right:\n",
        "      elements += self.right.in_order_traversal()\n",
        "\n",
        "    return elements\n",
        "  def search(self,data):\n",
        "    if self.data == data:\n",
        "      return True\n",
        "    if data < self.data:\n",
        "      #left side\n",
        "      if self.left:\n",
        "        return self.left.search(data)\n",
        "      else:\n",
        "        return False\n",
        "    \n",
        "      #right side\n",
        "    if data > self.data:\n",
        "      if self.right:\n",
        "        return self.right.search(data)\n",
        "      else:\n",
        "        return False\n",
        "\n",
        "  def find_max(self):\n",
        "    p = self.right\n",
        "    # d\n",
        "    while p:\n",
        "      if p.right == None:\n",
        "        return p.data\n",
        "      else:\n",
        "        p = p.right\n",
        "  def find_min(self):\n",
        "    p = self.left\n",
        "    if self.left is None:\n",
        "      return self.data\n",
        "    return self.left.find_min()\n",
        "\n",
        "  def delete(self,val):\n",
        "    if val < self.data:\n",
        "      if self.left:\n",
        "        self.left = self.left.delete(val)\n",
        "    elif val > self.data:\n",
        "      if self.right:\n",
        "        self.right = self.right.delete(val)\n",
        "    else:\n",
        "      if self.left == None and self.right == None:\n",
        "        return None\n",
        "      if self.left is None:\n",
        "        return self.right\n",
        "      if self.right is None:\n",
        "        return self.right\n",
        "      \n",
        "      min_val = self.right.find_min()\n",
        "      self.data = min_val\n",
        "      self.right = self.right.delete(min_val)\n",
        "\n",
        "    return self\n"
      ],
      "execution_count": null,
      "outputs": []
    },
    {
      "cell_type": "code",
      "metadata": {
        "id": "fNbsMymkoubF"
      },
      "source": [
        "def build_tree(elements):\n",
        "  root = BinaySearchTree(elements[0])\n",
        "\n",
        "  for i in range(1,len(elements)):\n",
        "    root.add_child(elements[i])\n",
        "\n",
        "  return root"
      ],
      "execution_count": null,
      "outputs": []
    },
    {
      "cell_type": "code",
      "metadata": {
        "colab": {
          "base_uri": "https://localhost:8080/"
        },
        "id": "rlX4Ml_ImKGc",
        "outputId": "5ee5f63e-44c1-4946-dfad-8a4cab83e262"
      },
      "source": [
        "numbers = [17,4,1,20,9,23,18,34]\n",
        "tree = build_tree(numbers)\n",
        "tree.in_order_traversal()"
      ],
      "execution_count": null,
      "outputs": [
        {
          "output_type": "execute_result",
          "data": {
            "text/plain": [
              "[1, 4, 9, 17, 18, 20, 23, 34]"
            ]
          },
          "metadata": {},
          "execution_count": 105
        }
      ]
    },
    {
      "cell_type": "code",
      "metadata": {
        "colab": {
          "base_uri": "https://localhost:8080/"
        },
        "id": "KrqsMbt2pKVr",
        "outputId": "d181f765-7df7-48cf-c4ab-876cdc0856c0"
      },
      "source": [
        "print(tree.search(2))"
      ],
      "execution_count": null,
      "outputs": [
        {
          "output_type": "stream",
          "name": "stdout",
          "text": [
            "False\n"
          ]
        }
      ]
    },
    {
      "cell_type": "code",
      "metadata": {
        "colab": {
          "base_uri": "https://localhost:8080/"
        },
        "id": "t_TYGxYvTow5",
        "outputId": "776e19cb-03f7-4d21-f1db-10ed3787c9f2"
      },
      "source": [
        "print(tree.find_max(),tree.find_min())"
      ],
      "execution_count": null,
      "outputs": [
        {
          "output_type": "stream",
          "name": "stdout",
          "text": [
            "34 1\n"
          ]
        }
      ]
    },
    {
      "cell_type": "code",
      "metadata": {
        "colab": {
          "base_uri": "https://localhost:8080/"
        },
        "id": "vV3dq7m3UP7i",
        "outputId": "e73a34b4-c005-45d5-b5eb-c6bd52ccb1ce"
      },
      "source": [
        "print(tree.delete(17).data)\n",
        "print(tree.in_order_traversal())"
      ],
      "execution_count": null,
      "outputs": [
        {
          "output_type": "stream",
          "name": "stdout",
          "text": [
            "20\n",
            "[4, 9, 20, 23, 34]\n"
          ]
        }
      ]
    },
    {
      "cell_type": "markdown",
      "metadata": {
        "id": "d1tp7OoFVaRy"
      },
      "source": [
        "## Binary Search "
      ]
    },
    {
      "cell_type": "code",
      "metadata": {
        "id": "ko00h1jLw2Q4"
      },
      "source": [
        "def binary_search(arr,data):\n",
        "  start = 0\n",
        "  end = len(arr)\n",
        "  mid = end // 2\n",
        "  while True:\n",
        "    if arr[mid] == data:\n",
        "      return True\n",
        "    if arr[mid] > data:\n",
        "      end = mid\n",
        "      mid = (start + end)//2\n",
        "    else:\n",
        "      start = mid\n",
        "      mid = (start + end)//2\n",
        "    if start >=end:\n",
        "      return False"
      ],
      "execution_count": null,
      "outputs": []
    },
    {
      "cell_type": "code",
      "metadata": {
        "colab": {
          "base_uri": "https://localhost:8080/"
        },
        "id": "iYSXLG-co-k6",
        "outputId": "1649facd-ad22-4b53-e20c-842f529b1cf9"
      },
      "source": [
        "arr = [4,9,11,17,21,25,32]\n",
        "binary_search(arr,4)\n"
      ],
      "execution_count": null,
      "outputs": [
        {
          "output_type": "execute_result",
          "data": {
            "text/plain": [
              "True"
            ]
          },
          "metadata": {},
          "execution_count": 117
        }
      ]
    },
    {
      "cell_type": "markdown",
      "metadata": {
        "id": "tJX7enzRx9sa"
      },
      "source": [
        "# **Bubble Sort**"
      ]
    },
    {
      "cell_type": "code",
      "metadata": {
        "id": "RVI77XWr55n_"
      },
      "source": [
        "def Bubble_sort(arr):\n",
        "  length = len(arr)\n",
        "  for i in range(length):\n",
        "    for j in range(length - i -1):\n",
        "      if arr[j] > arr[j+1]:\n",
        "        arr[j],arr[j+1] = arr[j+1], arr[j]\n",
        "  return arr"
      ],
      "execution_count": null,
      "outputs": []
    },
    {
      "cell_type": "code",
      "metadata": {
        "colab": {
          "base_uri": "https://localhost:8080/"
        },
        "id": "vhPj-v487DvV",
        "outputId": "3ff6927c-e58b-4999-d482-0957c1df9487"
      },
      "source": [
        "arr = [7,4,5,9,1,0]\n",
        "Bubble_sort(arr)"
      ],
      "execution_count": null,
      "outputs": [
        {
          "output_type": "execute_result",
          "data": {
            "text/plain": [
              "[0, 1, 4, 5, 7, 9]"
            ]
          },
          "metadata": {},
          "execution_count": 138
        }
      ]
    },
    {
      "cell_type": "code",
      "metadata": {
        "colab": {
          "base_uri": "https://localhost:8080/"
        },
        "id": "fjDBwW0a7IeO",
        "outputId": "e38b6e70-55e3-4467-acd1-6ee3f6f234de"
      },
      "source": [
        "arr = [\"b\",\"z\",\"c\",\"y\",\"r\"]\n",
        "Bubble_sort(arr)"
      ],
      "execution_count": null,
      "outputs": [
        {
          "output_type": "execute_result",
          "data": {
            "text/plain": [
              "['b', 'c', 'r', 'y', 'z']"
            ]
          },
          "metadata": {},
          "execution_count": 139
        }
      ]
    },
    {
      "cell_type": "code",
      "metadata": {
        "id": "S60fvgNy9Gi3"
      },
      "source": [
        ""
      ],
      "execution_count": null,
      "outputs": []
    },
    {
      "cell_type": "markdown",
      "metadata": {
        "id": "saZ_usmqnW-u"
      },
      "source": [
        "# Quick Sort"
      ]
    },
    {
      "cell_type": "code",
      "metadata": {
        "id": "UlgVrCzunbRN"
      },
      "source": [
        "def partition(arr, l, h):\n",
        "  pivot = arr[l]\n",
        "  i = l\n",
        "  j = h\n",
        "  while i < j:\n",
        "    while arr[i] <= pivot:\n",
        "      i += 1     \n",
        "    while arr[j] > pivot:\n",
        "      j = j - 1\n",
        "    if i<j:\n",
        "      arr[i], arr[j] = arr[j], arr[i]\n",
        "    arr[j], arr[l] = arr[l], arr[j]\n",
        "\n",
        "  return j\n",
        "\n",
        "\n",
        "def quickSort(arr,l,h):\n",
        "  if l < h:\n",
        "    pivot = partition(arr,l,h)\n",
        "    quickSort(arr, l, pivot - 1)\n",
        "    quickSort(arr, pivot + 1, h)\n",
        "\n",
        "  return arr"
      ],
      "execution_count": 15,
      "outputs": []
    },
    {
      "cell_type": "code",
      "metadata": {
        "colab": {
          "base_uri": "https://localhost:8080/"
        },
        "id": "hghxt5tQnneX",
        "outputId": "872884bd-af16-4e6d-ec3f-2906525766f7"
      },
      "source": [
        "arr = [6,2,3,8,9,1]\n",
        "quickSort(arr,0,len(arr)-1)"
      ],
      "execution_count": 17,
      "outputs": [
        {
          "output_type": "execute_result",
          "data": {
            "text/plain": [
              "[1, 2, 3, 6, 9, 8]"
            ]
          },
          "metadata": {},
          "execution_count": 17
        }
      ]
    },
    {
      "cell_type": "code",
      "metadata": {
        "id": "BAENO06gqnDM"
      },
      "source": [
        ""
      ],
      "execution_count": null,
      "outputs": []
    },
    {
      "cell_type": "code",
      "metadata": {
        "id": "-IHbZIDqN22J"
      },
      "source": [
        ""
      ],
      "execution_count": null,
      "outputs": []
    },
    {
      "cell_type": "markdown",
      "metadata": {
        "id": "AHNNKq-Z5hsw"
      },
      "source": [
        "# **Insertion sort**"
      ]
    },
    {
      "cell_type": "markdown",
      "metadata": {
        "id": "JVlRdSRdD9Bs"
      },
      "source": [
        "### **Insertion sort using 2 arrys**"
      ]
    },
    {
      "cell_type": "code",
      "metadata": {
        "id": "Nu4kwbYF5oBu"
      },
      "source": [
        "def insert1(a , inx, val):\n",
        "  a.insert(inx,val)\n",
        "  return a\n",
        "\n",
        "def insertionSort(a):\n",
        "  b = [a[0]]\n",
        "  for i in range(1,len(a)):\n",
        "    for j in range(len(b)):\n",
        "      if a[i] <= b[j]:\n",
        "        # insert i_th position in j_th place from array a to arr b \n",
        "        b = insert1(b,j,a[i])\n",
        "        break\n",
        "\n",
        "    if a[i]> b[len(b)-1]:\n",
        "      b.append(a[i])\n",
        "  return b\n"
      ],
      "execution_count": 62,
      "outputs": []
    },
    {
      "cell_type": "code",
      "metadata": {
        "colab": {
          "base_uri": "https://localhost:8080/"
        },
        "id": "g-4HI6Ba5rTB",
        "outputId": "56b61ae8-6283-4409-ec6a-b33d534cfdf0"
      },
      "source": [
        "a = [5,7,3,4,9,0]\n",
        "insertionSort(a)"
      ],
      "execution_count": 63,
      "outputs": [
        {
          "output_type": "execute_result",
          "data": {
            "text/plain": [
              "[0, 3, 4, 5, 7, 9]"
            ]
          },
          "metadata": {},
          "execution_count": 63
        }
      ]
    },
    {
      "cell_type": "markdown",
      "metadata": {
        "id": "fEGkGaBZ8vyN"
      },
      "source": [
        "### **Insertion Sort using single array**"
      ]
    },
    {
      "cell_type": "code",
      "metadata": {
        "id": "LCs_sibgEMJo"
      },
      "source": [
        "def insertionSort1(arr):\n",
        "  for i in range(1,len(arr)):\n",
        "    anchor = arr[i]\n",
        "    j = i - 1\n",
        "    while j>=0 and anchor < arr[j]:\n",
        "      arr[j+1] = arr[j]\n",
        "      j = j - 1\n",
        "    arr[j+1] = anchor\n",
        "\n",
        "  return arr \n",
        "  "
      ],
      "execution_count": 74,
      "outputs": []
    },
    {
      "cell_type": "code",
      "metadata": {
        "colab": {
          "base_uri": "https://localhost:8080/"
        },
        "id": "G7iA-bVwH2JG",
        "outputId": "ebfcc1a4-5092-47e6-e3f5-0b4b66e5ee7b"
      },
      "source": [
        "arr = [7,4,9,0,2,3]\n",
        "insertionSort1(arr)\n"
      ],
      "execution_count": 75,
      "outputs": [
        {
          "output_type": "execute_result",
          "data": {
            "text/plain": [
              "[0, 2, 3, 4, 7, 9]"
            ]
          },
          "metadata": {},
          "execution_count": 75
        }
      ]
    },
    {
      "cell_type": "markdown",
      "metadata": {
        "id": "fP_uww-cH8vW"
      },
      "source": [
        "# **Merge Sort**"
      ]
    },
    {
      "cell_type": "code",
      "metadata": {
        "id": "5AG4kHbFN--I"
      },
      "source": [
        "def merge_two_sorted_lists(a,b):\n",
        "  c = []\n",
        "  i, j = 0,0\n",
        "  while i != len(a) and j != len(b):\n",
        "    if a[i] > b[j]:\n",
        "      c.append(b[j])\n",
        "      j += 1\n",
        "    elif a[i] < b[j]:\n",
        "      c.append(a[i])\n",
        "      i += 1\n",
        "    else:\n",
        "      c.append(a[i])\n",
        "      c.append[b[j]]\n",
        "      i += 1\n",
        "      j += 1\n",
        "\n",
        "  while i < len(a):\n",
        "    c.append(a[i])\n",
        "    i += 1\n",
        "  while j < len(b):\n",
        "    c.append(a[j])\n",
        "    j += 1\n",
        "  return c"
      ],
      "execution_count": 83,
      "outputs": []
    },
    {
      "cell_type": "code",
      "metadata": {
        "colab": {
          "base_uri": "https://localhost:8080/"
        },
        "id": "gg6_w9qXP-Z9",
        "outputId": "e399ac73-42a8-4234-a021-753db6b216fa"
      },
      "source": [
        "a = [5,8,12,56]\n",
        "b = [7,9,45,51]\n",
        "merge_two_sorted_lists(a,b)"
      ],
      "execution_count": 84,
      "outputs": [
        {
          "output_type": "execute_result",
          "data": {
            "text/plain": [
              "[5, 7, 8, 9, 12, 45, 51, 56]"
            ]
          },
          "metadata": {},
          "execution_count": 84
        }
      ]
    },
    {
      "cell_type": "code",
      "metadata": {
        "id": "zKtZPSIEQNME"
      },
      "source": [
        ""
      ],
      "execution_count": null,
      "outputs": []
    }
  ]
}